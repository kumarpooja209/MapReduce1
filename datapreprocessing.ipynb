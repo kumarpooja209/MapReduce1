{
 "cells": [
  {
   "cell_type": "markdown",
   "metadata": {},
   "source": [
    "Data Pre-Processing "
   ]
  },
  {
   "cell_type": "code",
   "execution_count": 6,
   "metadata": {},
   "outputs": [
    {
     "name": "stdout",
     "output_type": "stream",
     "text": [
      "        holidays    temp  rain  snow  clouds weather weather_description  \\\n",
      "0  New_Years_Day  265.94   0.0   0.0      90    Snow          light_snow   \n",
      "1           None  266.00   0.0   0.0      90    Snow          light_snow   \n",
      "2           None  266.01   0.0   0.0      90    Snow          light_snow   \n",
      "3           None  264.80   0.0   0.0      90  Clouds     overcast_clouds   \n",
      "4           None  264.38   0.0   0.0      90  Clouds     overcast_clouds   \n",
      "\n",
      "          date_time  traffic  \n",
      "0  01/01/2016 00:00     1513  \n",
      "1  01/01/2016 01:00     1550  \n",
      "2  01/01/2016 03:00      719  \n",
      "3  01/01/2016 04:00      533  \n",
      "4  01/01/2016 05:00      586  \n",
      "(27859, 9)\n"
     ]
    }
   ],
   "source": [
    "import pandas as pd \n",
    "import numpy as np \n",
    "import matplotlib.pyplot as plt \n",
    "\n",
    "#Importing data\n",
    "df = pd.read_csv('D:\\Scalable system programming\\wdata_1.csv')\n",
    "#Printing head\n",
    "print(df.head())\n",
    "\n",
    "print(df.shape)\n",
    "\n"
   ]
  },
  {
   "cell_type": "code",
   "execution_count": 7,
   "metadata": {},
   "outputs": [],
   "source": [
    "df1=df"
   ]
  },
  {
   "cell_type": "code",
   "execution_count": 4,
   "metadata": {},
   "outputs": [
    {
     "name": "stdout",
     "output_type": "stream",
     "text": [
      "<class 'pandas.core.frame.DataFrame'>\n",
      "RangeIndex: 27859 entries, 0 to 27858\n",
      "Data columns (total 10 columns):\n",
      "Unnamed: 0    27859 non-null object\n",
      "temp          27859 non-null float64\n",
      "Unnamed: 2    27859 non-null float64\n",
      "Unnamed: 3    27859 non-null float64\n",
      "Unnamed: 4    27859 non-null int64\n",
      "Unnamed: 5    27859 non-null object\n",
      "Unnamed: 6    27859 non-null object\n",
      "Unnamed: 7    27859 non-null object\n",
      "traffic       27859 non-null int64\n",
      "date          27859 non-null object\n",
      "dtypes: float64(3), int64(2), object(5)\n",
      "memory usage: 2.1+ MB\n"
     ]
    }
   ],
   "source": [
    "df1.info()"
   ]
  },
  {
   "cell_type": "code",
   "execution_count": 8,
   "metadata": {},
   "outputs": [
    {
     "data": {
      "text/plain": [
       "holiday                0\n",
       "temp                   0\n",
       "rain_1h                0\n",
       "snow_1h                0\n",
       "clouds_all             0\n",
       "weather_main           0\n",
       "weather_description    0\n",
       "date_time              0\n",
       "traffic_volume         0\n",
       "date                   0\n",
       "dtype: int64"
      ]
     },
     "execution_count": 8,
     "metadata": {},
     "output_type": "execute_result"
    }
   ],
   "source": [
    "df1.isnull().sum()"
   ]
  },
  {
   "cell_type": "code",
   "execution_count": 9,
   "metadata": {},
   "outputs": [
    {
     "data": {
      "text/html": [
       "<div>\n",
       "<style scoped>\n",
       "    .dataframe tbody tr th:only-of-type {\n",
       "        vertical-align: middle;\n",
       "    }\n",
       "\n",
       "    .dataframe tbody tr th {\n",
       "        vertical-align: top;\n",
       "    }\n",
       "\n",
       "    .dataframe thead th {\n",
       "        text-align: right;\n",
       "    }\n",
       "</style>\n",
       "<table border=\"1\" class=\"dataframe\">\n",
       "  <thead>\n",
       "    <tr style=\"text-align: right;\">\n",
       "      <th></th>\n",
       "      <th>holiday</th>\n",
       "      <th>temp</th>\n",
       "      <th>rain_1h</th>\n",
       "      <th>snow_1h</th>\n",
       "      <th>clouds_all</th>\n",
       "      <th>weather_main</th>\n",
       "      <th>weather_description</th>\n",
       "      <th>date_time</th>\n",
       "      <th>traffic_volume</th>\n",
       "      <th>date</th>\n",
       "    </tr>\n",
       "  </thead>\n",
       "  <tbody>\n",
       "    <tr>\n",
       "      <td>0</td>\n",
       "      <td>New_Years_Day</td>\n",
       "      <td>265.94</td>\n",
       "      <td>0.0</td>\n",
       "      <td>0.0</td>\n",
       "      <td>90</td>\n",
       "      <td>Snow</td>\n",
       "      <td>light_snow</td>\n",
       "      <td>2016-01-01 00:00:00</td>\n",
       "      <td>1513</td>\n",
       "      <td>01/01/2016</td>\n",
       "    </tr>\n",
       "    <tr>\n",
       "      <td>1</td>\n",
       "      <td>None</td>\n",
       "      <td>266.00</td>\n",
       "      <td>0.0</td>\n",
       "      <td>0.0</td>\n",
       "      <td>90</td>\n",
       "      <td>Snow</td>\n",
       "      <td>light_snow</td>\n",
       "      <td>2016-01-01 01:00:00</td>\n",
       "      <td>1550</td>\n",
       "      <td>01/01/2016</td>\n",
       "    </tr>\n",
       "    <tr>\n",
       "      <td>2</td>\n",
       "      <td>None</td>\n",
       "      <td>266.01</td>\n",
       "      <td>0.0</td>\n",
       "      <td>0.0</td>\n",
       "      <td>90</td>\n",
       "      <td>Snow</td>\n",
       "      <td>light_snow</td>\n",
       "      <td>2016-01-01 03:00:00</td>\n",
       "      <td>719</td>\n",
       "      <td>01/01/2016</td>\n",
       "    </tr>\n",
       "    <tr>\n",
       "      <td>3</td>\n",
       "      <td>None</td>\n",
       "      <td>264.80</td>\n",
       "      <td>0.0</td>\n",
       "      <td>0.0</td>\n",
       "      <td>90</td>\n",
       "      <td>Clouds</td>\n",
       "      <td>overcast_clouds</td>\n",
       "      <td>2016-01-01 04:00:00</td>\n",
       "      <td>533</td>\n",
       "      <td>01/01/2016</td>\n",
       "    </tr>\n",
       "    <tr>\n",
       "      <td>4</td>\n",
       "      <td>None</td>\n",
       "      <td>264.38</td>\n",
       "      <td>0.0</td>\n",
       "      <td>0.0</td>\n",
       "      <td>90</td>\n",
       "      <td>Clouds</td>\n",
       "      <td>overcast_clouds</td>\n",
       "      <td>2016-01-01 05:00:00</td>\n",
       "      <td>586</td>\n",
       "      <td>01/01/2016</td>\n",
       "    </tr>\n",
       "  </tbody>\n",
       "</table>\n",
       "</div>"
      ],
      "text/plain": [
       "         holiday    temp  rain_1h  snow_1h  clouds_all weather_main  \\\n",
       "0  New_Years_Day  265.94      0.0      0.0          90         Snow   \n",
       "1           None  266.00      0.0      0.0          90         Snow   \n",
       "2           None  266.01      0.0      0.0          90         Snow   \n",
       "3           None  264.80      0.0      0.0          90       Clouds   \n",
       "4           None  264.38      0.0      0.0          90       Clouds   \n",
       "\n",
       "  weather_description           date_time  traffic_volume        date  \n",
       "0          light_snow 2016-01-01 00:00:00            1513  01/01/2016  \n",
       "1          light_snow 2016-01-01 01:00:00            1550  01/01/2016  \n",
       "2          light_snow 2016-01-01 03:00:00             719  01/01/2016  \n",
       "3     overcast_clouds 2016-01-01 04:00:00             533  01/01/2016  \n",
       "4     overcast_clouds 2016-01-01 05:00:00             586  01/01/2016  "
      ]
     },
     "execution_count": 9,
     "metadata": {},
     "output_type": "execute_result"
    }
   ],
   "source": [
    "import datetime\n",
    "\n",
    "df1['date_time'] = pd.to_datetime(df1['date_time'], format='%d/%m/%Y %H:%M')\n",
    "df1.head()"
   ]
  },
  {
   "cell_type": "code",
   "execution_count": 14,
   "metadata": {},
   "outputs": [
    {
     "data": {
      "text/html": [
       "<div>\n",
       "<style scoped>\n",
       "    .dataframe tbody tr th:only-of-type {\n",
       "        vertical-align: middle;\n",
       "    }\n",
       "\n",
       "    .dataframe tbody tr th {\n",
       "        vertical-align: top;\n",
       "    }\n",
       "\n",
       "    .dataframe thead th {\n",
       "        text-align: right;\n",
       "    }\n",
       "</style>\n",
       "<table border=\"1\" class=\"dataframe\">\n",
       "  <thead>\n",
       "    <tr style=\"text-align: right;\">\n",
       "      <th></th>\n",
       "      <th>holiday</th>\n",
       "      <th>temp</th>\n",
       "      <th>rain_1h</th>\n",
       "      <th>snow_1h</th>\n",
       "      <th>clouds_all</th>\n",
       "      <th>weather_main</th>\n",
       "      <th>weather_description</th>\n",
       "      <th>date_time</th>\n",
       "      <th>traffic_volume</th>\n",
       "      <th>date</th>\n",
       "    </tr>\n",
       "  </thead>\n",
       "  <tbody>\n",
       "    <tr>\n",
       "      <td>0</td>\n",
       "      <td>New_Years_Day</td>\n",
       "      <td>265.94</td>\n",
       "      <td>0.0</td>\n",
       "      <td>0.0</td>\n",
       "      <td>90</td>\n",
       "      <td>Snow</td>\n",
       "      <td>light_snow</td>\n",
       "      <td>2016-01-01 00:00:00</td>\n",
       "      <td>1513</td>\n",
       "      <td>2016-01-01</td>\n",
       "    </tr>\n",
       "    <tr>\n",
       "      <td>1</td>\n",
       "      <td>None</td>\n",
       "      <td>266.00</td>\n",
       "      <td>0.0</td>\n",
       "      <td>0.0</td>\n",
       "      <td>90</td>\n",
       "      <td>Snow</td>\n",
       "      <td>light_snow</td>\n",
       "      <td>2016-01-01 01:00:00</td>\n",
       "      <td>1550</td>\n",
       "      <td>2016-01-01</td>\n",
       "    </tr>\n",
       "    <tr>\n",
       "      <td>2</td>\n",
       "      <td>None</td>\n",
       "      <td>266.01</td>\n",
       "      <td>0.0</td>\n",
       "      <td>0.0</td>\n",
       "      <td>90</td>\n",
       "      <td>Snow</td>\n",
       "      <td>light_snow</td>\n",
       "      <td>2016-01-01 03:00:00</td>\n",
       "      <td>719</td>\n",
       "      <td>2016-01-01</td>\n",
       "    </tr>\n",
       "    <tr>\n",
       "      <td>3</td>\n",
       "      <td>None</td>\n",
       "      <td>264.80</td>\n",
       "      <td>0.0</td>\n",
       "      <td>0.0</td>\n",
       "      <td>90</td>\n",
       "      <td>Clouds</td>\n",
       "      <td>overcast_clouds</td>\n",
       "      <td>2016-01-01 04:00:00</td>\n",
       "      <td>533</td>\n",
       "      <td>2016-01-01</td>\n",
       "    </tr>\n",
       "    <tr>\n",
       "      <td>4</td>\n",
       "      <td>None</td>\n",
       "      <td>264.38</td>\n",
       "      <td>0.0</td>\n",
       "      <td>0.0</td>\n",
       "      <td>90</td>\n",
       "      <td>Clouds</td>\n",
       "      <td>overcast_clouds</td>\n",
       "      <td>2016-01-01 05:00:00</td>\n",
       "      <td>586</td>\n",
       "      <td>2016-01-01</td>\n",
       "    </tr>\n",
       "  </tbody>\n",
       "</table>\n",
       "</div>"
      ],
      "text/plain": [
       "         holiday    temp  rain_1h  snow_1h  clouds_all weather_main  \\\n",
       "0  New_Years_Day  265.94      0.0      0.0          90         Snow   \n",
       "1           None  266.00      0.0      0.0          90         Snow   \n",
       "2           None  266.01      0.0      0.0          90         Snow   \n",
       "3           None  264.80      0.0      0.0          90       Clouds   \n",
       "4           None  264.38      0.0      0.0          90       Clouds   \n",
       "\n",
       "  weather_description           date_time  traffic_volume       date  \n",
       "0          light_snow 2016-01-01 00:00:00            1513 2016-01-01  \n",
       "1          light_snow 2016-01-01 01:00:00            1550 2016-01-01  \n",
       "2          light_snow 2016-01-01 03:00:00             719 2016-01-01  \n",
       "3     overcast_clouds 2016-01-01 04:00:00             533 2016-01-01  \n",
       "4     overcast_clouds 2016-01-01 05:00:00             586 2016-01-01  "
      ]
     },
     "execution_count": 14,
     "metadata": {},
     "output_type": "execute_result"
    }
   ],
   "source": [
    "df1['date']=pd.to_datetime(df1['date_time']).dt.date\n",
    "df1['date'] = pd.to_datetime(df1['date'])\n",
    "df1.head()"
   ]
  },
  {
   "cell_type": "code",
   "execution_count": 15,
   "metadata": {},
   "outputs": [
    {
     "name": "stdout",
     "output_type": "stream",
     "text": [
      "<class 'pandas.core.frame.DataFrame'>\n",
      "RangeIndex: 27859 entries, 0 to 27858\n",
      "Data columns (total 10 columns):\n",
      "holiday                27859 non-null object\n",
      "temp                   27859 non-null float64\n",
      "rain_1h                27859 non-null float64\n",
      "snow_1h                27859 non-null float64\n",
      "clouds_all             27859 non-null int64\n",
      "weather_main           27859 non-null object\n",
      "weather_description    27859 non-null object\n",
      "date_time              27859 non-null datetime64[ns]\n",
      "traffic_volume         27859 non-null int64\n",
      "date                   27859 non-null datetime64[ns]\n",
      "dtypes: datetime64[ns](2), float64(3), int64(2), object(3)\n",
      "memory usage: 2.1+ MB\n"
     ]
    }
   ],
   "source": [
    "df1.info()"
   ]
  },
  {
   "cell_type": "code",
   "execution_count": 58,
   "metadata": {},
   "outputs": [],
   "source": [
    "df1.to_csv(r'D:\\\\Scalable system programming\\\\data.csv', index = False, header=0)"
   ]
  }
 ],
 "metadata": {
  "kernelspec": {
   "display_name": "Python 3",
   "language": "python",
   "name": "python3"
  },
  "language_info": {
   "codemirror_mode": {
    "name": "ipython",
    "version": 3
   },
   "file_extension": ".py",
   "mimetype": "text/x-python",
   "name": "python",
   "nbconvert_exporter": "python",
   "pygments_lexer": "ipython3",
   "version": "3.7.4"
  }
 },
 "nbformat": 4,
 "nbformat_minor": 4
}
